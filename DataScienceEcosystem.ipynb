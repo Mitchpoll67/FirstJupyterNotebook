{
 "cells": [
  {
   "cell_type": "markdown",
   "id": "89c10cb2-af3c-4134-94a2-30bb58c43c45",
   "metadata": {},
   "source": [
    "# Data Science Tools and Ecosystem"
   ]
  },
  {
   "cell_type": "markdown",
   "id": "7a82bc6d-103e-4244-a1c5-29a4dfa020ff",
   "metadata": {},
   "source": [
    "In this notebook, Data Science Tools and Ecosystems are summarized"
   ]
  },
  {
   "cell_type": "markdown",
   "id": "a6144780-769e-4e82-9a6e-7829baebef35",
   "metadata": {},
   "source": [
    "Some of the popular languages that Data Scientists use are:\n",
    "1. SQL\n",
    "2. Python\n",
    "3. R"
   ]
  },
  {
   "cell_type": "markdown",
   "id": "a7664734-0506-4ef1-8505-abfc74239e14",
   "metadata": {},
   "source": [
    "Some of the commonly used libraries used by Data Scientists include:\n",
    "1. Numpy\n",
    "2. Matplotlib\n",
    "3. Pandas"
   ]
  },
  {
   "cell_type": "markdown",
   "id": "c3f85411-0005-40da-bbb7-055700ec8ea3",
   "metadata": {},
   "source": [
    "| Data Science Tools |\n",
    "|--------------------|\n",
    "| Apache Spark |\n",
    "| IBM Watson Studio |\n",
    "| JupyterLab |"
   ]
  },
  {
   "cell_type": "markdown",
   "id": "ed82bd62-b3f0-4477-a2b4-86e8b458fe06",
   "metadata": {},
   "source": [
    "### Below are a few examples of evaluating arithmetic expressions in Python"
   ]
  },
  {
   "cell_type": "code",
   "execution_count": 2,
   "id": "8a579ca7-f7c8-47a3-90cb-7f0a2c8d8be6",
   "metadata": {},
   "outputs": [
    {
     "data": {
      "text/plain": [
       "17"
      ]
     },
     "execution_count": 2,
     "metadata": {},
     "output_type": "execute_result"
    }
   ],
   "source": [
    "# This is a simple arithmetic expression to multiply and then add integers\n",
    "(3*4)+5"
   ]
  },
  {
   "cell_type": "code",
   "execution_count": 6,
   "id": "f02f80bb-7a89-49de-8354-8f565436104a",
   "metadata": {},
   "outputs": [
    {
     "name": "stdout",
     "output_type": "stream",
     "text": [
      "3.3333333333333335\n"
     ]
    }
   ],
   "source": [
    "# This will convert minutes to hours by dividing by 60\n",
    "x = 200\n",
    "y = 60\n",
    "z = x/y\n",
    "print(z)"
   ]
  },
  {
   "cell_type": "markdown",
   "id": "5f4d4a91-7cbc-4b23-84b4-068625c6e371",
   "metadata": {},
   "source": [
    "__Objectives:__\n",
    "- List popular languages for data science\n",
    "- List multiple tools for data science\n",
    "- Create markdown cells with a variety of headings\n",
    "- Compute simple arithmetic using code cells"
   ]
  },
  {
   "cell_type": "markdown",
   "id": "be06d14d-1fde-4b39-8a81-f30ba7023ec9",
   "metadata": {},
   "source": [
    "## Author\n",
    "W. Mitchell Pollard"
   ]
  },
  {
   "cell_type": "code",
   "execution_count": null,
   "id": "1ac96d74-7471-4870-85c9-bbd7a58a3bf7",
   "metadata": {},
   "outputs": [],
   "source": []
  }
 ],
 "metadata": {
  "kernelspec": {
   "display_name": "Python 3 (ipykernel)",
   "language": "python",
   "name": "python3"
  },
  "language_info": {
   "codemirror_mode": {
    "name": "ipython",
    "version": 3
   },
   "file_extension": ".py",
   "mimetype": "text/x-python",
   "name": "python",
   "nbconvert_exporter": "python",
   "pygments_lexer": "ipython3",
   "version": "3.11.7"
  }
 },
 "nbformat": 4,
 "nbformat_minor": 5
}
